{
 "cells": [
  {
   "cell_type": "markdown",
   "metadata": {},
   "source": [
    "# ***Espero não ter abusado do uso dos comentários.***\n",
    "#### **Decidi usar para melhor explicar ao professor, na hora de entender minha lógica usada.**"
   ]
  },
  {
   "cell_type": "markdown",
   "metadata": {},
   "source": [
    "# ***Necessidades do projeto***"
   ]
  },
  {
   "cell_type": "code",
   "execution_count": 1,
   "metadata": {},
   "outputs": [],
   "source": [
    "#Necessidades.\n",
    "# No terminal, use: pip install requests\n",
    "# No terminal, use: pip install pandas\n",
    "# No terminal, use: pip install plyer\n",
    "\n",
    "\n",
    "\n",
    "import requests\n",
    "import pandas as pd\n",
    "from plyer import notification\n",
    "from datetime import datetime"
   ]
  },
  {
   "cell_type": "markdown",
   "metadata": {},
   "source": [
    "# ***Criando as funções***"
   ]
  },
  {
   "cell_type": "code",
   "execution_count": 11,
   "metadata": {},
   "outputs": [],
   "source": [
    "# Notificação\n",
    "def alerta(nivel, base, etapa, sucesso=False):\n",
    "    if sucesso:\n",
    "        titulo = \"Sucesso\"\n",
    "        mensagem = f\"Extração realizada com sucesso para a base {base} na etapa {etapa}.\"\n",
    "    else:\n",
    "        if nivel == 1:\n",
    "            titulo = \"Alerta Baixo\"\n",
    "        elif nivel == 2:\n",
    "            titulo = \"Alerta Médio\"\n",
    "        elif nivel == 3:\n",
    "            titulo = \"Alerta Alto\"\n",
    "        else:\n",
    "            titulo = \"Alerta Desconhecido\"\n",
    "        \n",
    "        mensagem = f\"Falha no carregamento da base {base} na etapa {etapa};\"\n",
    "    \n",
    "    data_atual = datetime.now().strftime('%Y-%m-%d %H:%M:%S')\n",
    "\n",
    "    notification.notify(\n",
    "        title=f\"ATENÇÃO: {titulo}\",\n",
    "        message=f\"{mensagem}\\n{data_atual}\",\n",
    "        app_name='API_NoobMaster',\n",
    "        timeout=10\n",
    "    )\n",
    "\n",
    "# URLs das APIs\n",
    "urls = {\n",
    "    \"Icelandic\": \"https://restcountries.com/v3.1/lang/Icelandic\",\n",
    "    \"Maltese\": \"https://restcountries.com/v3.1/lang/Maltese\",\n",
    "    \"luxemburguês\": \"https://restcountries.com/v3.1/lang/Luxembourgish\"\n",
    "}\n",
    "\n",
    "# Extração dos dados\n",
    "def extrair_dados(urls):\n",
    "    tabelas = []  # Para armazenar as tabelas extraídas\n",
    "    for idioma, url in urls.items():\n",
    "        try:\n",
    "            response = requests.get(url)\n",
    "            response.raise_for_status()\n",
    "            dados = response.json()\n",
    "            print(f\"Extração bem-sucedida da base {idioma}\")\n",
    "            \n",
    "            # Notificação de sucesso\n",
    "            alerta(nivel=1, base=idioma, etapa=\"EXTRACAO\", sucesso=True)\n",
    "            \n",
    "            # Transformar os dados em um DataFrame\n",
    "            df = pd.json_normalize(dados)\n",
    "            tabelas.append(df)\n",
    "            \n",
    "        except requests.exceptions.RequestException as e:\n",
    "            # Caso ocorra algum erro, gerar alerta\n",
    "            alerta(nivel=2, base=idioma, etapa=\"EXTRACAO\")\n",
    "            print(f\"Erro na extração da base {idioma}: {e}\")\n",
    "\n",
    "    return tabelas\n",
    "\n",
    "# Tratamento dos dados\n",
    "def tratar_dados(tabelas):\n",
    "    tabelas_tratadas = []  # Lista para armazenar as tabelas tratadas\n",
    "    for idx, tabela in enumerate(tabelas):\n",
    "        \n",
    "        # Colunas que EU QUERO!!!\n",
    "        colunas_interesse = ['name.common', 'capital', 'area', 'population', 'region', 'subregion']\n",
    "        tabela_tratada = tabela[colunas_interesse].copy()\n",
    "        tabela_tratada['capital'] = tabela_tratada['capital'].apply(lambda x: x[0] if isinstance(x, list) and len(x) > 0 else x)\n",
    "\n",
    "        tabela_tratada = tabela_tratada.rename(columns={\n",
    "            'name.common': 'Nome',\n",
    "            'capital': 'Capital',\n",
    "            'area': 'Área',\n",
    "            'population': 'População',\n",
    "            'region': 'Região',\n",
    "            'subregion': 'Sub-Região'\n",
    "        })\n",
    "        \n",
    "        tabelas_tratadas.append(tabela_tratada)\n",
    "       \n",
    "\n",
    "    return tabelas_tratadas\n",
    "\n"
   ]
  },
  {
   "cell_type": "markdown",
   "metadata": {},
   "source": [
    "# ***Chamando as funções***"
   ]
  },
  {
   "cell_type": "code",
   "execution_count": 12,
   "metadata": {},
   "outputs": [
    {
     "name": "stdout",
     "output_type": "stream",
     "text": [
      "Extração bem-sucedida da base Icelandic\n",
      "Extração bem-sucedida da base Maltese\n",
      "Extração bem-sucedida da base luxemburguês\n"
     ]
    }
   ],
   "source": [
    "tabelas_extraidas = extrair_dados(urls)\n",
    "tabelas_tratadas = tratar_dados(tabelas_extraidas)"
   ]
  },
  {
   "cell_type": "markdown",
   "metadata": {},
   "source": [
    "# ***Exibir primeira tabela***"
   ]
  },
  {
   "cell_type": "code",
   "execution_count": 99,
   "metadata": {},
   "outputs": [
    {
     "name": "stdout",
     "output_type": "stream",
     "text": [
      "\n",
      "Tabela 1:\n",
      "      Nome    Capital      Área  População  Região       Sub-Região\n",
      "0  Iceland  Reykjavik  103000.0     366425  Europe  Northern Europe\n"
     ]
    }
   ],
   "source": [
    "tabela_1 = tabelas_tratadas[0]\n",
    "print(\"\\nTabela 1:\")\n",
    "print(tabela_1.head())"
   ]
  },
  {
   "cell_type": "markdown",
   "metadata": {},
   "source": [
    "# ***Exibir segunda tabela***"
   ]
  },
  {
   "cell_type": "code",
   "execution_count": 100,
   "metadata": {},
   "outputs": [
    {
     "name": "stdout",
     "output_type": "stream",
     "text": [
      "\n",
      "Tabela 2:\n",
      "    Nome   Capital   Área  População  Região       Sub-Região\n",
      "0  Malta  Valletta  316.0     525285  Europe  Southern Europe\n"
     ]
    }
   ],
   "source": [
    "tabela_2 = tabelas_tratadas[1]\n",
    "print(\"\\nTabela 2:\")\n",
    "print(tabela_2.head())"
   ]
  },
  {
   "cell_type": "markdown",
   "metadata": {},
   "source": [
    "# ***Exibir terceira tabela***"
   ]
  },
  {
   "cell_type": "code",
   "execution_count": 101,
   "metadata": {},
   "outputs": [
    {
     "name": "stdout",
     "output_type": "stream",
     "text": [
      "\n",
      "Tabela 3:\n",
      "         Nome     Capital    Área  População  Região      Sub-Região\n",
      "0  Luxembourg  Luxembourg  2586.0     632275  Europe  Western Europe\n"
     ]
    }
   ],
   "source": [
    "tabela_3 = tabelas_tratadas[2]\n",
    "print(\"\\nTabela 3:\")\n",
    "print(tabela_3.head())"
   ]
  }
 ],
 "metadata": {
  "kernelspec": {
   "display_name": "Python 3",
   "language": "python",
   "name": "python3"
  },
  "language_info": {
   "codemirror_mode": {
    "name": "ipython",
    "version": 3
   },
   "file_extension": ".py",
   "mimetype": "text/x-python",
   "name": "python",
   "nbconvert_exporter": "python",
   "pygments_lexer": "ipython3",
   "version": "3.12.4"
  }
 },
 "nbformat": 4,
 "nbformat_minor": 2
}
